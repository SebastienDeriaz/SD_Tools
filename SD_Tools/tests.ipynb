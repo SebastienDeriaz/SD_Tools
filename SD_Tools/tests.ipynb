{
 "cells": [
  {
   "cell_type": "markdown",
   "metadata": {},
   "source": [
    "# Tests"
   ]
  },
  {
   "cell_type": "code",
   "execution_count": 1,
   "metadata": {},
   "outputs": [
    {
     "name": "stdout",
     "output_type": "stream",
     "text": [
      "Collecting git+https://github.com/SebastienDeriaz/SD_Tools\n",
      "  Cloning https://github.com/SebastienDeriaz/SD_Tools to c:\\users\\sebastien\\appdata\\local\\temp\\pip-req-build-zn4jc7sv\n",
      "Building wheels for collected packages: SD-Tools\n",
      "  Building wheel for SD-Tools (setup.py): started\n",
      "  Building wheel for SD-Tools (setup.py): finished with status 'done'\n",
      "  Created wheel for SD-Tools: filename=SD_Tools-1.0-py3-none-any.whl size=1972 sha256=448955cdbf351aec044dddffa8901174c95ee5bacd1b188f5eb0cf9ad35bcdcd\n",
      "  Stored in directory: C:\\Users\\Sebastien\\AppData\\Local\\Temp\\pip-ephem-wheel-cache-f6pq7nt9\\wheels\\3a\\9d\\0e\\9418fb36a59dd3366c7ce9b24b6404d7e0f96010a6d00e22e2\n",
      "Successfully built SD-Tools\n",
      "Installing collected packages: SD-Tools\n",
      "  Attempting uninstall: SD-Tools\n",
      "    Found existing installation: SD-Tools 1.0\n",
      "    Uninstalling SD-Tools-1.0:\n",
      "      Successfully uninstalled SD-Tools-1.0\n",
      "Successfully installed SD-Tools-1.0\n"
     ]
    },
    {
     "ename": "SyntaxError",
     "evalue": "invalid syntax (engineer_notation.py, line 5)",
     "output_type": "error",
     "traceback": [
      "Traceback \u001b[1;36m(most recent call last)\u001b[0m:\n",
      "  File \u001b[0;32m\"C:\\Users\\Sebastien\\anaconda3\\lib\\site-packages\\IPython\\core\\interactiveshell.py\"\u001b[0m, line \u001b[0;32m3417\u001b[0m, in \u001b[0;35mrun_code\u001b[0m\n    exec(code_obj, self.user_global_ns, self.user_ns)\n",
      "  File \u001b[0;32m\"<ipython-input-1-71c1a89a60da>\"\u001b[0m, line \u001b[0;32m3\u001b[0m, in \u001b[0;35m<module>\u001b[0m\n    from SD_Tools.engineer_notation import to_eng, to_units\n",
      "\u001b[1;36m  File \u001b[1;32m\"C:\\Users\\Sebastien\\anaconda3\\lib\\site-packages\\SD_Tools\\__init__.py\"\u001b[1;36m, line \u001b[1;32m1\u001b[1;36m, in \u001b[1;35m<module>\u001b[1;36m\u001b[0m\n\u001b[1;33m    from .engineer_notation import *\u001b[0m\n",
      "\u001b[1;36m  File \u001b[1;32m\"C:\\Users\\Sebastien\\anaconda3\\lib\\site-packages\\SD_Tools\\engineer_notation.py\"\u001b[1;36m, line \u001b[1;32m5\u001b[0m\n\u001b[1;33m    if(extension = \"kg\" or extension==\"$kg$\"):\u001b[0m\n\u001b[1;37m                 ^\u001b[0m\n\u001b[1;31mSyntaxError\u001b[0m\u001b[1;31m:\u001b[0m invalid syntax\n"
     ]
    }
   ],
   "source": [
    "#import sys\n",
    "#!{sys.executable} -m pip install --upgrade git+https://github.com/SebastienDeriaz/SD_Tools\n",
    "from SD_Tools.engineer_notation import to_eng, to_units\n",
    "#from IPython import display\n"
   ]
  },
  {
   "cell_type": "markdown",
   "metadata": {},
   "source": [
    "## Notation ingénieur"
   ]
  },
  {
   "cell_type": "code",
   "execution_count": null,
   "metadata": {},
   "outputs": [],
   "source": [
    "alpha = 1.01\n",
    "to_eng(r\"angle $\\alpha$ = \", alpha, \"°\", 2)"
   ]
  },
  {
   "cell_type": "markdown",
   "metadata": {},
   "source": [
    "## Notation scientifique\n"
   ]
  },
  {
   "cell_type": "markdown",
   "metadata": {},
   "source": [
    "## Autres"
   ]
  },
  {
   "cell_type": "code",
   "execution_count": null,
   "metadata": {},
   "outputs": [],
   "source": [
    "display(\"test\")"
   ]
  },
  {
   "cell_type": "code",
   "execution_count": null,
   "metadata": {},
   "outputs": [],
   "source": []
  }
 ],
 "metadata": {
  "kernelspec": {
   "display_name": "Python 3",
   "language": "python",
   "name": "python3"
  },
  "language_info": {
   "codemirror_mode": {
    "name": "ipython",
    "version": 3
   },
   "file_extension": ".py",
   "mimetype": "text/x-python",
   "name": "python",
   "nbconvert_exporter": "python",
   "pygments_lexer": "ipython3",
   "version": "3.8.5"
  }
 },
 "nbformat": 4,
 "nbformat_minor": 4
}
