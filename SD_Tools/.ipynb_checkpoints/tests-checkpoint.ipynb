{
 "cells": [
  {
   "cell_type": "code",
   "execution_count": 4,
   "metadata": {},
   "outputs": [
    {
     "name": "stdout",
     "output_type": "stream",
     "text": [
      "Processing d:\\ecole\\heig-vd\\programmes\\python\\sd_tools\n",
      "Building wheels for collected packages: SD-Tools\n",
      "  Building wheel for SD-Tools (setup.py): started\n",
      "  Building wheel for SD-Tools (setup.py): finished with status 'done'\n",
      "  Created wheel for SD-Tools: filename=SD_Tools-1.1-py3-none-any.whl size=2182 sha256=28e9efe9f33850f89d8e993a6e6cd21cc46882d9c5db40d45019b556b37ec93f\n",
      "  Stored in directory: C:\\Users\\Sebastien\\AppData\\Local\\Temp\\pip-ephem-wheel-cache-x_4ljqfk\\wheels\\e3\\7b\\b4\\27d848b6a946571eb95771db78f130af867668e5fe1376d3e5\n",
      "Successfully built SD-Tools\n",
      "Installing collected packages: SD-Tools\n",
      "  Attempting uninstall: SD-Tools\n",
      "    Found existing installation: SD-Tools 1.1\n",
      "    Uninstalling SD-Tools-1.1:\n",
      "      Successfully uninstalled SD-Tools-1.1\n",
      "Successfully installed SD-Tools-1.1\n"
     ]
    }
   ],
   "source": [
    "import sys\n",
    "!{sys.executable} -m pip install --upgrade ./../"
   ]
  },
  {
   "cell_type": "markdown",
   "metadata": {},
   "source": [
    "# Tests"
   ]
  },
  {
   "cell_type": "code",
   "execution_count": 5,
   "metadata": {},
   "outputs": [],
   "source": [
    "from SD_Tools.engineer_notation import to_eng, to_units\n",
    "from IPython.display import Math\n"
   ]
  },
  {
   "cell_type": "markdown",
   "metadata": {},
   "source": [
    "## Notation ingénieur"
   ]
  },
  {
   "cell_type": "code",
   "execution_count": 6,
   "metadata": {},
   "outputs": [
    {
     "name": "stdout",
     "output_type": "stream",
     "text": [
      "final :  \\text{taille }\\gamma\\text{ = }12.34\\cdot 10^{-6} \\text{ m}\n"
     ]
    },
    {
     "data": {
      "text/latex": [
       "$\\displaystyle \\text{taille }\\gamma\\text{ = }12.34\\cdot 10^{-6} \\text{ m}$"
      ],
      "text/plain": [
       "<IPython.core.display.Math object>"
      ]
     },
     "metadata": {},
     "output_type": "display_data"
    }
   ],
   "source": [
    "to_eng(r\"taille $\\gamma$ = \", 0.00001234, \"m\")\n"
   ]
  },
  {
   "cell_type": "code",
   "execution_count": 10,
   "metadata": {},
   "outputs": [
    {
     "name": "stdout",
     "output_type": "stream",
     "text": [
      "final :  \\text{taille }\\gamma =  12.34\\cdot 10^{-6} \\text{ m}\n"
     ]
    },
    {
     "data": {
      "text/latex": [
       "$\\displaystyle \\text{taille }\\gamma =  12.34\\cdot 10^{-6} \\text{ m}$"
      ],
      "text/plain": [
       "<IPython.core.display.Math object>"
      ]
     },
     "metadata": {},
     "output_type": "display_data"
    }
   ],
   "source": [
    "to_eng(r\"taille $\\gamma = $\", 0.00001234, \"m\")"
   ]
  },
  {
   "cell_type": "markdown",
   "metadata": {},
   "source": [
    "## Notation scientifique\n"
   ]
  },
  {
   "cell_type": "code",
   "execution_count": 7,
   "metadata": {},
   "outputs": [
    {
     "name": "stdout",
     "output_type": "stream",
     "text": [
      "eval :  12.34 \\text{ μm}\n",
      "prefix format:  \\text{taille }\\gamma\\text{ = }\n",
      "final :  \\text{taille }\\gamma\\text{ = }12.34 \\text{ μm}\n"
     ]
    },
    {
     "data": {
      "text/latex": [
       "$\\displaystyle \\text{taille }\\gamma\\text{ = }12.34 \\text{ μm}$"
      ],
      "text/plain": [
       "<IPython.core.display.Math object>"
      ]
     },
     "metadata": {},
     "output_type": "display_data"
    }
   ],
   "source": [
    "to_units(r\"taille $\\gamma$ = \", 0.00001234, \"m\")"
   ]
  },
  {
   "cell_type": "code",
   "execution_count": 8,
   "metadata": {},
   "outputs": [
    {
     "name": "stdout",
     "output_type": "stream",
     "text": [
      "eval :  12.34 \\text{ μm}\n",
      "prefix format:  \\text{taille }\\gamma =  \n",
      "final :  \\text{taille }\\gamma =  12.34 \\text{ μm}\n"
     ]
    },
    {
     "data": {
      "text/latex": [
       "$\\displaystyle \\text{taille }\\gamma =  12.34 \\text{ μm}$"
      ],
      "text/plain": [
       "<IPython.core.display.Math object>"
      ]
     },
     "metadata": {},
     "output_type": "display_data"
    }
   ],
   "source": [
    "to_units(r\"taille $\\gamma = $\", 0.00001234, \"m\")"
   ]
  },
  {
   "cell_type": "code",
   "execution_count": 11,
   "metadata": {},
   "outputs": [
    {
     "name": "stdout",
     "output_type": "stream",
     "text": [
      "eval :  12.10 \\text{ H}\n",
      "prefix format:  $L =  \n",
      "final :  $L =  12.10 \\text{ H}\n"
     ]
    },
    {
     "data": {
      "text/latex": [
       "$\\displaystyle L =  12.10 \\text{ H}$"
      ],
      "text/plain": [
       "<IPython.core.display.Math object>"
      ]
     },
     "metadata": {},
     "output_type": "display_data"
    }
   ],
   "source": [
    "to_units(\"$L = $\", 12.1, \"H\", 2);"
   ]
  },
  {
   "cell_type": "markdown",
   "metadata": {},
   "source": [
    "## Autres"
   ]
  },
  {
   "cell_type": "code",
   "execution_count": 5,
   "metadata": {},
   "outputs": [
    {
     "data": {
      "text/latex": [
       "$\\displaystyle \\alpha$"
      ],
      "text/plain": [
       "<IPython.core.display.Math object>"
      ]
     },
     "metadata": {},
     "output_type": "display_data"
    },
    {
     "data": {
      "text/plain": [
       "'test'"
      ]
     },
     "metadata": {},
     "output_type": "display_data"
    },
    {
     "data": {
      "text/latex": [
       "$\\displaystyle \\text{abc = }\\alpha$"
      ],
      "text/plain": [
       "<IPython.core.display.Math object>"
      ]
     },
     "metadata": {},
     "output_type": "display_data"
    }
   ],
   "source": [
    "display(Math(r\"\\alpha\"), \"test\")\n",
    "display(Math(r\"\\text{abc = }\\alpha\"))"
   ]
  },
  {
   "cell_type": "code",
   "execution_count": null,
   "metadata": {},
   "outputs": [],
   "source": []
  }
 ],
 "metadata": {
  "kernelspec": {
   "display_name": "Python 3",
   "language": "python",
   "name": "python3"
  },
  "language_info": {
   "codemirror_mode": {
    "name": "ipython",
    "version": 3
   },
   "file_extension": ".py",
   "mimetype": "text/x-python",
   "name": "python",
   "nbconvert_exporter": "python",
   "pygments_lexer": "ipython3",
   "version": "3.8.5"
  }
 },
 "nbformat": 4,
 "nbformat_minor": 4
}
